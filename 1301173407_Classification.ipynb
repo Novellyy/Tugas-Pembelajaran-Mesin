{
  "nbformat": 4,
  "nbformat_minor": 0,
  "metadata": {
    "colab": {
      "name": "Classification.ipynb",
      "provenance": [],
      "collapsed_sections": []
    },
    "kernelspec": {
      "name": "python3",
      "display_name": "Python 3"
    }
  },
  "cells": [
    {
      "cell_type": "code",
      "metadata": {
        "id": "8r17HjRrc6Nb",
        "colab_type": "code",
        "colab": {}
      },
      "source": [
        "import pandas as pd\n",
        "import seaborn as sn\n",
        "from sklearn.model_selection import train_test_split\n",
        "from sklearn.naive_bayes import GaussianNB\n",
        "from sklearn import metrics\n",
        "from sklearn.metrics import classification_report"
      ],
      "execution_count": 0,
      "outputs": []
    },
    {
      "cell_type": "code",
      "metadata": {
        "id": "-f01ydgbNrrh",
        "colab_type": "code",
        "outputId": "d2145824-11d1-4851-91c6-bb87429c1bd3",
        "colab": {
          "base_uri": "https://localhost:8080/",
          "height": 374
        }
      },
      "source": [
        "df = pd.read_csv(\"classification.csv\")\n",
        "df.head()"
      ],
      "execution_count": 0,
      "outputs": [
        {
          "output_type": "execute_result",
          "data": {
            "text/html": [
              "<div>\n",
              "<style scoped>\n",
              "    .dataframe tbody tr th:only-of-type {\n",
              "        vertical-align: middle;\n",
              "    }\n",
              "\n",
              "    .dataframe tbody tr th {\n",
              "        vertical-align: top;\n",
              "    }\n",
              "\n",
              "    .dataframe thead th {\n",
              "        text-align: right;\n",
              "    }\n",
              "</style>\n",
              "<table border=\"1\" class=\"dataframe\">\n",
              "  <thead>\n",
              "    <tr style=\"text-align: right;\">\n",
              "      <th></th>\n",
              "      <th>overall</th>\n",
              "      <th>potential</th>\n",
              "      <th>height_cm</th>\n",
              "      <th>weight_kg</th>\n",
              "      <th>international_reputation</th>\n",
              "      <th>value_eur</th>\n",
              "      <th>wage_eur</th>\n",
              "      <th>work_rate</th>\n",
              "      <th>player_traits</th>\n",
              "    </tr>\n",
              "  </thead>\n",
              "  <tbody>\n",
              "    <tr>\n",
              "      <th>0</th>\n",
              "      <td>94</td>\n",
              "      <td>94</td>\n",
              "      <td>170</td>\n",
              "      <td>72</td>\n",
              "      <td>5</td>\n",
              "      <td>95500000</td>\n",
              "      <td>565000</td>\n",
              "      <td>Medium/Low</td>\n",
              "      <td>Beat Offside Trap, Argues with Officials, Earl...</td>\n",
              "    </tr>\n",
              "    <tr>\n",
              "      <th>1</th>\n",
              "      <td>93</td>\n",
              "      <td>93</td>\n",
              "      <td>187</td>\n",
              "      <td>83</td>\n",
              "      <td>5</td>\n",
              "      <td>58500000</td>\n",
              "      <td>405000</td>\n",
              "      <td>High/Low</td>\n",
              "      <td>Long Throw-in, Selfish, Argues with Officials,...</td>\n",
              "    </tr>\n",
              "    <tr>\n",
              "      <th>2</th>\n",
              "      <td>92</td>\n",
              "      <td>92</td>\n",
              "      <td>175</td>\n",
              "      <td>68</td>\n",
              "      <td>5</td>\n",
              "      <td>105500000</td>\n",
              "      <td>290000</td>\n",
              "      <td>High/Medium</td>\n",
              "      <td>Power Free-Kick, Injury Free, Selfish, Early C...</td>\n",
              "    </tr>\n",
              "    <tr>\n",
              "      <th>3</th>\n",
              "      <td>91</td>\n",
              "      <td>93</td>\n",
              "      <td>188</td>\n",
              "      <td>87</td>\n",
              "      <td>3</td>\n",
              "      <td>77500000</td>\n",
              "      <td>125000</td>\n",
              "      <td>Medium/Medium</td>\n",
              "      <td>Flair, Acrobatic Clearance</td>\n",
              "    </tr>\n",
              "    <tr>\n",
              "      <th>4</th>\n",
              "      <td>91</td>\n",
              "      <td>91</td>\n",
              "      <td>175</td>\n",
              "      <td>74</td>\n",
              "      <td>4</td>\n",
              "      <td>90000000</td>\n",
              "      <td>470000</td>\n",
              "      <td>High/Medium</td>\n",
              "      <td>Beat Offside Trap, Selfish, Finesse Shot, Spee...</td>\n",
              "    </tr>\n",
              "  </tbody>\n",
              "</table>\n",
              "</div>"
            ],
            "text/plain": [
              "   overall  ...                                      player_traits\n",
              "0       94  ...  Beat Offside Trap, Argues with Officials, Earl...\n",
              "1       93  ...  Long Throw-in, Selfish, Argues with Officials,...\n",
              "2       92  ...  Power Free-Kick, Injury Free, Selfish, Early C...\n",
              "3       91  ...                         Flair, Acrobatic Clearance\n",
              "4       91  ...  Beat Offside Trap, Selfish, Finesse Shot, Spee...\n",
              "\n",
              "[5 rows x 9 columns]"
            ]
          },
          "metadata": {
            "tags": []
          },
          "execution_count": 72
        }
      ]
    },
    {
      "cell_type": "code",
      "metadata": {
        "id": "RFv12yBTPa4P",
        "colab_type": "code",
        "outputId": "c4c75361-8d7a-4911-c8b7-b24360439626",
        "colab": {
          "base_uri": "https://localhost:8080/",
          "height": 204
        }
      },
      "source": [
        "df = pd.DataFrame(df, columns=['overall','potential','height_cm','weight_kg','international_reputation','value_eur','wage_eur'])\n",
        "df.head()"
      ],
      "execution_count": 0,
      "outputs": [
        {
          "output_type": "execute_result",
          "data": {
            "text/html": [
              "<div>\n",
              "<style scoped>\n",
              "    .dataframe tbody tr th:only-of-type {\n",
              "        vertical-align: middle;\n",
              "    }\n",
              "\n",
              "    .dataframe tbody tr th {\n",
              "        vertical-align: top;\n",
              "    }\n",
              "\n",
              "    .dataframe thead th {\n",
              "        text-align: right;\n",
              "    }\n",
              "</style>\n",
              "<table border=\"1\" class=\"dataframe\">\n",
              "  <thead>\n",
              "    <tr style=\"text-align: right;\">\n",
              "      <th></th>\n",
              "      <th>overall</th>\n",
              "      <th>potential</th>\n",
              "      <th>height_cm</th>\n",
              "      <th>weight_kg</th>\n",
              "      <th>international_reputation</th>\n",
              "      <th>value_eur</th>\n",
              "      <th>wage_eur</th>\n",
              "    </tr>\n",
              "  </thead>\n",
              "  <tbody>\n",
              "    <tr>\n",
              "      <th>0</th>\n",
              "      <td>94</td>\n",
              "      <td>94</td>\n",
              "      <td>170</td>\n",
              "      <td>72</td>\n",
              "      <td>5</td>\n",
              "      <td>95500000</td>\n",
              "      <td>565000</td>\n",
              "    </tr>\n",
              "    <tr>\n",
              "      <th>1</th>\n",
              "      <td>93</td>\n",
              "      <td>93</td>\n",
              "      <td>187</td>\n",
              "      <td>83</td>\n",
              "      <td>5</td>\n",
              "      <td>58500000</td>\n",
              "      <td>405000</td>\n",
              "    </tr>\n",
              "    <tr>\n",
              "      <th>2</th>\n",
              "      <td>92</td>\n",
              "      <td>92</td>\n",
              "      <td>175</td>\n",
              "      <td>68</td>\n",
              "      <td>5</td>\n",
              "      <td>105500000</td>\n",
              "      <td>290000</td>\n",
              "    </tr>\n",
              "    <tr>\n",
              "      <th>3</th>\n",
              "      <td>91</td>\n",
              "      <td>93</td>\n",
              "      <td>188</td>\n",
              "      <td>87</td>\n",
              "      <td>3</td>\n",
              "      <td>77500000</td>\n",
              "      <td>125000</td>\n",
              "    </tr>\n",
              "    <tr>\n",
              "      <th>4</th>\n",
              "      <td>91</td>\n",
              "      <td>91</td>\n",
              "      <td>175</td>\n",
              "      <td>74</td>\n",
              "      <td>4</td>\n",
              "      <td>90000000</td>\n",
              "      <td>470000</td>\n",
              "    </tr>\n",
              "  </tbody>\n",
              "</table>\n",
              "</div>"
            ],
            "text/plain": [
              "   overall  potential  height_cm  ...  international_reputation  value_eur  wage_eur\n",
              "0       94         94        170  ...                         5   95500000    565000\n",
              "1       93         93        187  ...                         5   58500000    405000\n",
              "2       92         92        175  ...                         5  105500000    290000\n",
              "3       91         93        188  ...                         3   77500000    125000\n",
              "4       91         91        175  ...                         4   90000000    470000\n",
              "\n",
              "[5 rows x 7 columns]"
            ]
          },
          "metadata": {
            "tags": []
          },
          "execution_count": 73
        }
      ]
    },
    {
      "cell_type": "code",
      "metadata": {
        "id": "3F-XtuGM34Rr",
        "colab_type": "code",
        "colab": {}
      },
      "source": [
        "# international_reputation menjadi label\n",
        "label = df['international_reputation'].tolist()\n",
        "df = df.drop(columns=['international_reputation'])\n",
        "# print(df)"
      ],
      "execution_count": 0,
      "outputs": []
    },
    {
      "cell_type": "code",
      "metadata": {
        "id": "3BPzNYEDghF3",
        "colab_type": "code",
        "colab": {}
      },
      "source": [
        "# Membagi menjadi training set 70% dan test set 30%\n",
        "X_train, X_test, y_train, y_test = train_test_split(df, label, test_size = 0.3, random_state = 0)"
      ],
      "execution_count": 0,
      "outputs": []
    },
    {
      "cell_type": "code",
      "metadata": {
        "id": "xvsht5bZg4WN",
        "colab_type": "code",
        "outputId": "6db89616-eb8a-49d8-b947-d11b7bb7dae9",
        "colab": {
          "base_uri": "https://localhost:8080/",
          "height": 34
        }
      },
      "source": [
        "# proses pembentukan model dengan algoritma Naive bayes\n",
        "algo = GaussianNB()\n",
        "algo.fit(X_train,y_train)\n",
        "y_predict = algo.predict(X_test)\n",
        "y_predict"
      ],
      "execution_count": 0,
      "outputs": [
        {
          "output_type": "execute_result",
          "data": {
            "text/plain": [
              "array([1, 1, 1, ..., 1, 4, 1])"
            ]
          },
          "metadata": {
            "tags": []
          },
          "execution_count": 76
        }
      ]
    },
    {
      "cell_type": "code",
      "metadata": {
        "id": "dSxkFarg8Til",
        "colab_type": "code",
        "outputId": "affd754c-5574-45bc-8783-4aba7d342c5c",
        "colab": {
          "base_uri": "https://localhost:8080/",
          "height": 235
        }
      },
      "source": [
        "# evaluasi \n",
        "actual = pd.Series(y_test, name='Actual')\n",
        "predic = pd.Series(y_predict, name='Predicted')\n",
        "df_confusion = pd.crosstab(actual, predic)\n",
        "df_confusion"
      ],
      "execution_count": 0,
      "outputs": [
        {
          "output_type": "execute_result",
          "data": {
            "text/html": [
              "<div>\n",
              "<style scoped>\n",
              "    .dataframe tbody tr th:only-of-type {\n",
              "        vertical-align: middle;\n",
              "    }\n",
              "\n",
              "    .dataframe tbody tr th {\n",
              "        vertical-align: top;\n",
              "    }\n",
              "\n",
              "    .dataframe thead th {\n",
              "        text-align: right;\n",
              "    }\n",
              "</style>\n",
              "<table border=\"1\" class=\"dataframe\">\n",
              "  <thead>\n",
              "    <tr style=\"text-align: right;\">\n",
              "      <th>Predicted</th>\n",
              "      <th>1</th>\n",
              "      <th>2</th>\n",
              "      <th>3</th>\n",
              "      <th>4</th>\n",
              "    </tr>\n",
              "    <tr>\n",
              "      <th>Actual</th>\n",
              "      <th></th>\n",
              "      <th></th>\n",
              "      <th></th>\n",
              "      <th></th>\n",
              "    </tr>\n",
              "  </thead>\n",
              "  <tbody>\n",
              "    <tr>\n",
              "      <th>1</th>\n",
              "      <td>4841</td>\n",
              "      <td>206</td>\n",
              "      <td>9</td>\n",
              "      <td>0</td>\n",
              "    </tr>\n",
              "    <tr>\n",
              "      <th>2</th>\n",
              "      <td>175</td>\n",
              "      <td>139</td>\n",
              "      <td>12</td>\n",
              "      <td>0</td>\n",
              "    </tr>\n",
              "    <tr>\n",
              "      <th>3</th>\n",
              "      <td>16</td>\n",
              "      <td>31</td>\n",
              "      <td>30</td>\n",
              "      <td>7</td>\n",
              "    </tr>\n",
              "    <tr>\n",
              "      <th>4</th>\n",
              "      <td>4</td>\n",
              "      <td>3</td>\n",
              "      <td>5</td>\n",
              "      <td>5</td>\n",
              "    </tr>\n",
              "    <tr>\n",
              "      <th>5</th>\n",
              "      <td>0</td>\n",
              "      <td>0</td>\n",
              "      <td>1</td>\n",
              "      <td>0</td>\n",
              "    </tr>\n",
              "  </tbody>\n",
              "</table>\n",
              "</div>"
            ],
            "text/plain": [
              "Predicted     1    2   3  4\n",
              "Actual                     \n",
              "1          4841  206   9  0\n",
              "2           175  139  12  0\n",
              "3            16   31  30  7\n",
              "4             4    3   5  5\n",
              "5             0    0   1  0"
            ]
          },
          "metadata": {
            "tags": []
          },
          "execution_count": 77
        }
      ]
    },
    {
      "cell_type": "code",
      "metadata": {
        "id": "iBof71ozOiA8",
        "colab_type": "code",
        "outputId": "43c469a9-341c-4449-8038-867a2595a33e",
        "colab": {
          "base_uri": "https://localhost:8080/",
          "height": 275
        }
      },
      "source": [
        "print(classification_report(y_test,y_predict))"
      ],
      "execution_count": 0,
      "outputs": [
        {
          "output_type": "stream",
          "text": [
            "              precision    recall  f1-score   support\n",
            "\n",
            "           1       0.96      0.96      0.96      5056\n",
            "           2       0.37      0.43      0.39       326\n",
            "           3       0.53      0.36      0.43        84\n",
            "           4       0.42      0.29      0.34        17\n",
            "           5       0.00      0.00      0.00         1\n",
            "\n",
            "    accuracy                           0.91      5484\n",
            "   macro avg       0.45      0.41      0.42      5484\n",
            "weighted avg       0.92      0.91      0.92      5484\n",
            "\n"
          ],
          "name": "stdout"
        },
        {
          "output_type": "stream",
          "text": [
            "/usr/local/lib/python3.6/dist-packages/sklearn/metrics/_classification.py:1272: UndefinedMetricWarning: Precision and F-score are ill-defined and being set to 0.0 in labels with no predicted samples. Use `zero_division` parameter to control this behavior.\n",
            "  _warn_prf(average, modifier, msg_start, len(result))\n"
          ],
          "name": "stderr"
        }
      ]
    },
    {
      "cell_type": "code",
      "metadata": {
        "id": "T-b0H-PIOx5y",
        "colab_type": "code",
        "outputId": "4443bec8-18bd-445d-e909-4adb5eb30bd4",
        "colab": {
          "base_uri": "https://localhost:8080/",
          "height": 34
        }
      },
      "source": [
        "print(\"Akurasi : \",metrics.accuracy_score(y_test,y_predict))"
      ],
      "execution_count": 0,
      "outputs": [
        {
          "output_type": "stream",
          "text": [
            "Akurasi :  0.9144784828592268\n"
          ],
          "name": "stdout"
        }
      ]
    },
    {
      "cell_type": "code",
      "metadata": {
        "id": "nNHecOhAPAGr",
        "colab_type": "code",
        "colab": {}
      },
      "source": [
        ""
      ],
      "execution_count": 0,
      "outputs": []
    }
  ]
}