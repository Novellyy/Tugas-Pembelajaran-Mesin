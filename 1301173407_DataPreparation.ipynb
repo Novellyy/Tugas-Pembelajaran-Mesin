{
  "nbformat": 4,
  "nbformat_minor": 0,
  "metadata": {
    "colab": {
      "name": "DataPreparation.ipynb",
      "provenance": [],
      "collapsed_sections": []
    },
    "kernelspec": {
      "name": "python3",
      "display_name": "Python 3"
    }
  },
  "cells": [
    {
      "cell_type": "code",
      "metadata": {
        "id": "2TGlEQ8azMBp",
        "colab_type": "code",
        "colab": {}
      },
      "source": [
        "import pandas as pd\n",
        "import numpy as np\n",
        "from matplotlib import pyplot as plt "
      ],
      "execution_count": 0,
      "outputs": []
    },
    {
      "cell_type": "code",
      "metadata": {
        "id": "mAJ0Bj_j1IP8",
        "colab_type": "code",
        "colab": {}
      },
      "source": [
        "df = pd.read_csv(\"fifa20.csv\")"
      ],
      "execution_count": 0,
      "outputs": []
    },
    {
      "cell_type": "code",
      "metadata": {
        "id": "KxM6yghE11FI",
        "colab_type": "code",
        "colab": {}
      },
      "source": [
        "df = pd.DataFrame(df, columns=['overall', 'potential','height_cm','weight_kg','international_reputation','value_eur', 'wage_eur','work_rate','player_traits'])"
      ],
      "execution_count": 0,
      "outputs": []
    },
    {
      "cell_type": "code",
      "metadata": {
        "id": "16nnK-nr2cNE",
        "colab_type": "code",
        "outputId": "5db6f911-07b3-4f57-ebab-1b160ca36eb8",
        "colab": {
          "base_uri": "https://localhost:8080/",
          "height": 643
        }
      },
      "source": [
        "df"
      ],
      "execution_count": 0,
      "outputs": [
        {
          "output_type": "execute_result",
          "data": {
            "text/html": [
              "<div>\n",
              "<style scoped>\n",
              "    .dataframe tbody tr th:only-of-type {\n",
              "        vertical-align: middle;\n",
              "    }\n",
              "\n",
              "    .dataframe tbody tr th {\n",
              "        vertical-align: top;\n",
              "    }\n",
              "\n",
              "    .dataframe thead th {\n",
              "        text-align: right;\n",
              "    }\n",
              "</style>\n",
              "<table border=\"1\" class=\"dataframe\">\n",
              "  <thead>\n",
              "    <tr style=\"text-align: right;\">\n",
              "      <th></th>\n",
              "      <th>overall</th>\n",
              "      <th>potential</th>\n",
              "      <th>height_cm</th>\n",
              "      <th>weight_kg</th>\n",
              "      <th>international_reputation</th>\n",
              "      <th>value_eur</th>\n",
              "      <th>wage_eur</th>\n",
              "      <th>work_rate</th>\n",
              "      <th>player_traits</th>\n",
              "    </tr>\n",
              "  </thead>\n",
              "  <tbody>\n",
              "    <tr>\n",
              "      <th>0</th>\n",
              "      <td>94</td>\n",
              "      <td>94</td>\n",
              "      <td>170</td>\n",
              "      <td>72</td>\n",
              "      <td>5</td>\n",
              "      <td>95500000</td>\n",
              "      <td>565000</td>\n",
              "      <td>Medium/Low</td>\n",
              "      <td>Beat Offside Trap, Argues with Officials, Earl...</td>\n",
              "    </tr>\n",
              "    <tr>\n",
              "      <th>1</th>\n",
              "      <td>93</td>\n",
              "      <td>93</td>\n",
              "      <td>187</td>\n",
              "      <td>83</td>\n",
              "      <td>5</td>\n",
              "      <td>58500000</td>\n",
              "      <td>405000</td>\n",
              "      <td>High/Low</td>\n",
              "      <td>Long Throw-in, Selfish, Argues with Officials,...</td>\n",
              "    </tr>\n",
              "    <tr>\n",
              "      <th>2</th>\n",
              "      <td>92</td>\n",
              "      <td>92</td>\n",
              "      <td>175</td>\n",
              "      <td>68</td>\n",
              "      <td>5</td>\n",
              "      <td>105500000</td>\n",
              "      <td>290000</td>\n",
              "      <td>High/Medium</td>\n",
              "      <td>Power Free-Kick, Injury Free, Selfish, Early C...</td>\n",
              "    </tr>\n",
              "    <tr>\n",
              "      <th>3</th>\n",
              "      <td>91</td>\n",
              "      <td>93</td>\n",
              "      <td>188</td>\n",
              "      <td>87</td>\n",
              "      <td>3</td>\n",
              "      <td>77500000</td>\n",
              "      <td>125000</td>\n",
              "      <td>Medium/Medium</td>\n",
              "      <td>Flair, Acrobatic Clearance</td>\n",
              "    </tr>\n",
              "    <tr>\n",
              "      <th>4</th>\n",
              "      <td>91</td>\n",
              "      <td>91</td>\n",
              "      <td>175</td>\n",
              "      <td>74</td>\n",
              "      <td>4</td>\n",
              "      <td>90000000</td>\n",
              "      <td>470000</td>\n",
              "      <td>High/Medium</td>\n",
              "      <td>Beat Offside Trap, Selfish, Finesse Shot, Spee...</td>\n",
              "    </tr>\n",
              "    <tr>\n",
              "      <th>...</th>\n",
              "      <td>...</td>\n",
              "      <td>...</td>\n",
              "      <td>...</td>\n",
              "      <td>...</td>\n",
              "      <td>...</td>\n",
              "      <td>...</td>\n",
              "      <td>...</td>\n",
              "      <td>...</td>\n",
              "      <td>...</td>\n",
              "    </tr>\n",
              "    <tr>\n",
              "      <th>18273</th>\n",
              "      <td>48</td>\n",
              "      <td>56</td>\n",
              "      <td>186</td>\n",
              "      <td>79</td>\n",
              "      <td>1</td>\n",
              "      <td>40000</td>\n",
              "      <td>2000</td>\n",
              "      <td>Medium/High</td>\n",
              "      <td>NaN</td>\n",
              "    </tr>\n",
              "    <tr>\n",
              "      <th>18274</th>\n",
              "      <td>48</td>\n",
              "      <td>56</td>\n",
              "      <td>177</td>\n",
              "      <td>66</td>\n",
              "      <td>1</td>\n",
              "      <td>40000</td>\n",
              "      <td>2000</td>\n",
              "      <td>Medium/Medium</td>\n",
              "      <td>NaN</td>\n",
              "    </tr>\n",
              "    <tr>\n",
              "      <th>18275</th>\n",
              "      <td>48</td>\n",
              "      <td>56</td>\n",
              "      <td>186</td>\n",
              "      <td>75</td>\n",
              "      <td>1</td>\n",
              "      <td>40000</td>\n",
              "      <td>1000</td>\n",
              "      <td>Low/Medium</td>\n",
              "      <td>NaN</td>\n",
              "    </tr>\n",
              "    <tr>\n",
              "      <th>18276</th>\n",
              "      <td>48</td>\n",
              "      <td>54</td>\n",
              "      <td>185</td>\n",
              "      <td>74</td>\n",
              "      <td>1</td>\n",
              "      <td>40000</td>\n",
              "      <td>1000</td>\n",
              "      <td>Low/Low</td>\n",
              "      <td>NaN</td>\n",
              "    </tr>\n",
              "    <tr>\n",
              "      <th>18277</th>\n",
              "      <td>48</td>\n",
              "      <td>51</td>\n",
              "      <td>182</td>\n",
              "      <td>78</td>\n",
              "      <td>1</td>\n",
              "      <td>40000</td>\n",
              "      <td>2000</td>\n",
              "      <td>Medium/Medium</td>\n",
              "      <td>NaN</td>\n",
              "    </tr>\n",
              "  </tbody>\n",
              "</table>\n",
              "<p>18278 rows × 9 columns</p>\n",
              "</div>"
            ],
            "text/plain": [
              "       overall  ...                                      player_traits\n",
              "0           94  ...  Beat Offside Trap, Argues with Officials, Earl...\n",
              "1           93  ...  Long Throw-in, Selfish, Argues with Officials,...\n",
              "2           92  ...  Power Free-Kick, Injury Free, Selfish, Early C...\n",
              "3           91  ...                         Flair, Acrobatic Clearance\n",
              "4           91  ...  Beat Offside Trap, Selfish, Finesse Shot, Spee...\n",
              "...        ...  ...                                                ...\n",
              "18273       48  ...                                                NaN\n",
              "18274       48  ...                                                NaN\n",
              "18275       48  ...                                                NaN\n",
              "18276       48  ...                                                NaN\n",
              "18277       48  ...                                                NaN\n",
              "\n",
              "[18278 rows x 9 columns]"
            ]
          },
          "metadata": {
            "tags": []
          },
          "execution_count": 78
        }
      ]
    },
    {
      "cell_type": "code",
      "metadata": {
        "id": "hU_R_Wx42e8b",
        "colab_type": "code",
        "outputId": "04405016-a316-41c9-d3eb-acb05de0e30a",
        "colab": {
          "base_uri": "https://localhost:8080/",
          "height": 297
        }
      },
      "source": [
        "df.describe()"
      ],
      "execution_count": 0,
      "outputs": [
        {
          "output_type": "execute_result",
          "data": {
            "text/html": [
              "<div>\n",
              "<style scoped>\n",
              "    .dataframe tbody tr th:only-of-type {\n",
              "        vertical-align: middle;\n",
              "    }\n",
              "\n",
              "    .dataframe tbody tr th {\n",
              "        vertical-align: top;\n",
              "    }\n",
              "\n",
              "    .dataframe thead th {\n",
              "        text-align: right;\n",
              "    }\n",
              "</style>\n",
              "<table border=\"1\" class=\"dataframe\">\n",
              "  <thead>\n",
              "    <tr style=\"text-align: right;\">\n",
              "      <th></th>\n",
              "      <th>overall</th>\n",
              "      <th>potential</th>\n",
              "      <th>height_cm</th>\n",
              "      <th>weight_kg</th>\n",
              "      <th>international_reputation</th>\n",
              "      <th>value_eur</th>\n",
              "      <th>wage_eur</th>\n",
              "    </tr>\n",
              "  </thead>\n",
              "  <tbody>\n",
              "    <tr>\n",
              "      <th>count</th>\n",
              "      <td>18278.000000</td>\n",
              "      <td>18278.000000</td>\n",
              "      <td>18278.000000</td>\n",
              "      <td>18278.000000</td>\n",
              "      <td>18278.000000</td>\n",
              "      <td>1.827800e+04</td>\n",
              "      <td>18278.000000</td>\n",
              "    </tr>\n",
              "    <tr>\n",
              "      <th>mean</th>\n",
              "      <td>66.244994</td>\n",
              "      <td>71.546887</td>\n",
              "      <td>181.362184</td>\n",
              "      <td>75.276343</td>\n",
              "      <td>1.103184</td>\n",
              "      <td>2.484038e+06</td>\n",
              "      <td>9456.942773</td>\n",
              "    </tr>\n",
              "    <tr>\n",
              "      <th>std</th>\n",
              "      <td>6.949953</td>\n",
              "      <td>6.139669</td>\n",
              "      <td>6.756961</td>\n",
              "      <td>7.047744</td>\n",
              "      <td>0.378861</td>\n",
              "      <td>5.585481e+06</td>\n",
              "      <td>21351.714095</td>\n",
              "    </tr>\n",
              "    <tr>\n",
              "      <th>min</th>\n",
              "      <td>48.000000</td>\n",
              "      <td>49.000000</td>\n",
              "      <td>156.000000</td>\n",
              "      <td>50.000000</td>\n",
              "      <td>1.000000</td>\n",
              "      <td>0.000000e+00</td>\n",
              "      <td>0.000000</td>\n",
              "    </tr>\n",
              "    <tr>\n",
              "      <th>25%</th>\n",
              "      <td>62.000000</td>\n",
              "      <td>67.000000</td>\n",
              "      <td>177.000000</td>\n",
              "      <td>70.000000</td>\n",
              "      <td>1.000000</td>\n",
              "      <td>3.250000e+05</td>\n",
              "      <td>1000.000000</td>\n",
              "    </tr>\n",
              "    <tr>\n",
              "      <th>50%</th>\n",
              "      <td>66.000000</td>\n",
              "      <td>71.000000</td>\n",
              "      <td>181.000000</td>\n",
              "      <td>75.000000</td>\n",
              "      <td>1.000000</td>\n",
              "      <td>7.000000e+05</td>\n",
              "      <td>3000.000000</td>\n",
              "    </tr>\n",
              "    <tr>\n",
              "      <th>75%</th>\n",
              "      <td>71.000000</td>\n",
              "      <td>75.000000</td>\n",
              "      <td>186.000000</td>\n",
              "      <td>80.000000</td>\n",
              "      <td>1.000000</td>\n",
              "      <td>2.100000e+06</td>\n",
              "      <td>8000.000000</td>\n",
              "    </tr>\n",
              "    <tr>\n",
              "      <th>max</th>\n",
              "      <td>94.000000</td>\n",
              "      <td>95.000000</td>\n",
              "      <td>205.000000</td>\n",
              "      <td>110.000000</td>\n",
              "      <td>5.000000</td>\n",
              "      <td>1.055000e+08</td>\n",
              "      <td>565000.000000</td>\n",
              "    </tr>\n",
              "  </tbody>\n",
              "</table>\n",
              "</div>"
            ],
            "text/plain": [
              "            overall     potential  ...     value_eur       wage_eur\n",
              "count  18278.000000  18278.000000  ...  1.827800e+04   18278.000000\n",
              "mean      66.244994     71.546887  ...  2.484038e+06    9456.942773\n",
              "std        6.949953      6.139669  ...  5.585481e+06   21351.714095\n",
              "min       48.000000     49.000000  ...  0.000000e+00       0.000000\n",
              "25%       62.000000     67.000000  ...  3.250000e+05    1000.000000\n",
              "50%       66.000000     71.000000  ...  7.000000e+05    3000.000000\n",
              "75%       71.000000     75.000000  ...  2.100000e+06    8000.000000\n",
              "max       94.000000     95.000000  ...  1.055000e+08  565000.000000\n",
              "\n",
              "[8 rows x 7 columns]"
            ]
          },
          "metadata": {
            "tags": []
          },
          "execution_count": 79
        }
      ]
    },
    {
      "cell_type": "code",
      "metadata": {
        "id": "5u8FOs71GT03",
        "colab_type": "code",
        "colab": {}
      },
      "source": [
        "import seaborn as sns\n",
        "sns.set(style=\"whitegrid\")"
      ],
      "execution_count": 0,
      "outputs": []
    },
    {
      "cell_type": "code",
      "metadata": {
        "id": "5Ji7t2msPaar",
        "colab_type": "code",
        "outputId": "50a9468e-793d-4242-9c97-7d5d1e51655b",
        "colab": {
          "base_uri": "https://localhost:8080/",
          "height": 676
        }
      },
      "source": [
        "# Melihat Kolerasi antar data\n",
        "corr = df.select_dtypes(include= ['float64', 'int64']).iloc[:, :].corr()\n",
        "plt.figure(figsize=(10, 10))\n",
        "x = sns.heatmap(corr, vmax=1, square=True)\n",
        "plt.xticks(rotation=45)\n",
        "plt.yticks(rotation=45)"
      ],
      "execution_count": 0,
      "outputs": [
        {
          "output_type": "execute_result",
          "data": {
            "text/plain": [
              "(array([0.5, 1.5, 2.5, 3.5, 4.5, 5.5, 6.5]),\n",
              " <a list of 7 Text major ticklabel objects>)"
            ]
          },
          "metadata": {
            "tags": []
          },
          "execution_count": 81
        },
        {
          "output_type": "display_data",
          "data": {
            "image/png": "[encoded data removed]",
            "text/plain": [
              "<Figure size 720x720 with 2 Axes>"
            ]
          },
          "metadata": {
            "tags": []
          }
        }
      ]
    },
    {
      "cell_type": "code",
      "metadata": {
        "id": "3pWcpkVrRn-i",
        "colab_type": "code",
        "outputId": "36fa6237-f25d-4809-f46d-7606c8bcecde",
        "colab": {
          "base_uri": "https://localhost:8080/",
          "height": 266
        }
      },
      "source": [
        "corr"
      ],
      "execution_count": 0,
      "outputs": [
        {
          "output_type": "execute_result",
          "data": {
            "text/html": [
              "<div>\n",
              "<style scoped>\n",
              "    .dataframe tbody tr th:only-of-type {\n",
              "        vertical-align: middle;\n",
              "    }\n",
              "\n",
              "    .dataframe tbody tr th {\n",
              "        vertical-align: top;\n",
              "    }\n",
              "\n",
              "    .dataframe thead th {\n",
              "        text-align: right;\n",
              "    }\n",
              "</style>\n",
              "<table border=\"1\" class=\"dataframe\">\n",
              "  <thead>\n",
              "    <tr style=\"text-align: right;\">\n",
              "      <th></th>\n",
              "      <th>overall</th>\n",
              "      <th>potential</th>\n",
              "      <th>height_cm</th>\n",
              "      <th>weight_kg</th>\n",
              "      <th>international_reputation</th>\n",
              "      <th>value_eur</th>\n",
              "      <th>wage_eur</th>\n",
              "    </tr>\n",
              "  </thead>\n",
              "  <tbody>\n",
              "    <tr>\n",
              "      <th>overall</th>\n",
              "      <td>1.000000</td>\n",
              "      <td>0.646650</td>\n",
              "      <td>0.039945</td>\n",
              "      <td>0.156522</td>\n",
              "      <td>0.475557</td>\n",
              "      <td>0.638230</td>\n",
              "      <td>0.573578</td>\n",
              "    </tr>\n",
              "    <tr>\n",
              "      <th>potential</th>\n",
              "      <td>0.646650</td>\n",
              "      <td>1.000000</td>\n",
              "      <td>-0.002432</td>\n",
              "      <td>-0.011738</td>\n",
              "      <td>0.341221</td>\n",
              "      <td>0.580868</td>\n",
              "      <td>0.475490</td>\n",
              "    </tr>\n",
              "    <tr>\n",
              "      <th>height_cm</th>\n",
              "      <td>0.039945</td>\n",
              "      <td>-0.002432</td>\n",
              "      <td>1.000000</td>\n",
              "      <td>0.768816</td>\n",
              "      <td>0.037935</td>\n",
              "      <td>0.009527</td>\n",
              "      <td>0.019547</td>\n",
              "    </tr>\n",
              "    <tr>\n",
              "      <th>weight_kg</th>\n",
              "      <td>0.156522</td>\n",
              "      <td>-0.011738</td>\n",
              "      <td>0.768816</td>\n",
              "      <td>1.000000</td>\n",
              "      <td>0.090854</td>\n",
              "      <td>0.051782</td>\n",
              "      <td>0.065946</td>\n",
              "    </tr>\n",
              "    <tr>\n",
              "      <th>international_reputation</th>\n",
              "      <td>0.475557</td>\n",
              "      <td>0.341221</td>\n",
              "      <td>0.037935</td>\n",
              "      <td>0.090854</td>\n",
              "      <td>1.000000</td>\n",
              "      <td>0.618133</td>\n",
              "      <td>0.652061</td>\n",
              "    </tr>\n",
              "    <tr>\n",
              "      <th>value_eur</th>\n",
              "      <td>0.638230</td>\n",
              "      <td>0.580868</td>\n",
              "      <td>0.009527</td>\n",
              "      <td>0.051782</td>\n",
              "      <td>0.618133</td>\n",
              "      <td>1.000000</td>\n",
              "      <td>0.858052</td>\n",
              "    </tr>\n",
              "    <tr>\n",
              "      <th>wage_eur</th>\n",
              "      <td>0.573578</td>\n",
              "      <td>0.475490</td>\n",
              "      <td>0.019547</td>\n",
              "      <td>0.065946</td>\n",
              "      <td>0.652061</td>\n",
              "      <td>0.858052</td>\n",
              "      <td>1.000000</td>\n",
              "    </tr>\n",
              "  </tbody>\n",
              "</table>\n",
              "</div>"
            ],
            "text/plain": [
              "                           overall  potential  ...  value_eur  wage_eur\n",
              "overall                   1.000000   0.646650  ...   0.638230  0.573578\n",
              "potential                 0.646650   1.000000  ...   0.580868  0.475490\n",
              "height_cm                 0.039945  -0.002432  ...   0.009527  0.019547\n",
              "weight_kg                 0.156522  -0.011738  ...   0.051782  0.065946\n",
              "international_reputation  0.475557   0.341221  ...   0.618133  0.652061\n",
              "value_eur                 0.638230   0.580868  ...   1.000000  0.858052\n",
              "wage_eur                  0.573578   0.475490  ...   0.858052  1.000000\n",
              "\n",
              "[7 rows x 7 columns]"
            ]
          },
          "metadata": {
            "tags": []
          },
          "execution_count": 82
        }
      ]
    },
    {
      "cell_type": "code",
      "metadata": {
        "id": "Is6a3o-c5yQ6",
        "colab_type": "code",
        "colab": {}
      },
      "source": [
        "from sklearn.model_selection import train_test_split"
      ],
      "execution_count": 0,
      "outputs": []
    },
    {
      "cell_type": "code",
      "metadata": {
        "id": "ZsGKjUxX5zOF",
        "colab_type": "code",
        "outputId": "52955c28-63e5-4bf6-f134-0d879a4a6ac4",
        "colab": {
          "base_uri": "https://localhost:8080/",
          "height": 207
        }
      },
      "source": [
        "clasNew = np.array(df)\n",
        "clasNew"
      ],
      "execution_count": 0,
      "outputs": [
        {
          "output_type": "execute_result",
          "data": {
            "text/plain": [
              "array([[94, 94, 170, ..., 565000, 'Medium/Low',\n",
              "        'Beat Offside Trap, Argues with Officials, Early Crosser, Finesse Shot, Speed Dribbler (CPU AI Only), 1-on-1 Rush, Giant Throw-in, Outside Foot Shot'],\n",
              "       [93, 93, 187, ..., 405000, 'High/Low',\n",
              "        'Long Throw-in, Selfish, Argues with Officials, Early Crosser, Speed Dribbler (CPU AI Only), Skilled Dribbling'],\n",
              "       [92, 92, 175, ..., 290000, 'High/Medium',\n",
              "        'Power Free-Kick, Injury Free, Selfish, Early Crosser, Speed Dribbler (CPU AI Only), Crowd Favourite'],\n",
              "       ...,\n",
              "       [48, 56, 186, ..., 1000, 'Low/Medium', nan],\n",
              "       [48, 54, 185, ..., 1000, 'Low/Low', nan],\n",
              "       [48, 51, 182, ..., 2000, 'Medium/Medium', nan]], dtype=object)"
            ]
          },
          "metadata": {
            "tags": []
          },
          "execution_count": 84
        }
      ]
    },
    {
      "cell_type": "code",
      "metadata": {
        "id": "SbChKlxFgZy6",
        "colab_type": "code",
        "outputId": "08067049-c772-446c-8524-fd1aa5846db3",
        "colab": {
          "base_uri": "https://localhost:8080/",
          "height": 419
        }
      },
      "source": [
        "#Pemotongan Data (Classification Data)\n",
        "Dataclas = pd.DataFrame(df, columns=['overall', 'potential'])\n",
        "Dataclas"
      ],
      "execution_count": 0,
      "outputs": [
        {
          "output_type": "execute_result",
          "data": {
            "text/html": [
              "<div>\n",
              "<style scoped>\n",
              "    .dataframe tbody tr th:only-of-type {\n",
              "        vertical-align: middle;\n",
              "    }\n",
              "\n",
              "    .dataframe tbody tr th {\n",
              "        vertical-align: top;\n",
              "    }\n",
              "\n",
              "    .dataframe thead th {\n",
              "        text-align: right;\n",
              "    }\n",
              "</style>\n",
              "<table border=\"1\" class=\"dataframe\">\n",
              "  <thead>\n",
              "    <tr style=\"text-align: right;\">\n",
              "      <th></th>\n",
              "      <th>overall</th>\n",
              "      <th>potential</th>\n",
              "    </tr>\n",
              "  </thead>\n",
              "  <tbody>\n",
              "    <tr>\n",
              "      <th>0</th>\n",
              "      <td>94</td>\n",
              "      <td>94</td>\n",
              "    </tr>\n",
              "    <tr>\n",
              "      <th>1</th>\n",
              "      <td>93</td>\n",
              "      <td>93</td>\n",
              "    </tr>\n",
              "    <tr>\n",
              "      <th>2</th>\n",
              "      <td>92</td>\n",
              "      <td>92</td>\n",
              "    </tr>\n",
              "    <tr>\n",
              "      <th>3</th>\n",
              "      <td>91</td>\n",
              "      <td>93</td>\n",
              "    </tr>\n",
              "    <tr>\n",
              "      <th>4</th>\n",
              "      <td>91</td>\n",
              "      <td>91</td>\n",
              "    </tr>\n",
              "    <tr>\n",
              "      <th>...</th>\n",
              "      <td>...</td>\n",
              "      <td>...</td>\n",
              "    </tr>\n",
              "    <tr>\n",
              "      <th>18273</th>\n",
              "      <td>48</td>\n",
              "      <td>56</td>\n",
              "    </tr>\n",
              "    <tr>\n",
              "      <th>18274</th>\n",
              "      <td>48</td>\n",
              "      <td>56</td>\n",
              "    </tr>\n",
              "    <tr>\n",
              "      <th>18275</th>\n",
              "      <td>48</td>\n",
              "      <td>56</td>\n",
              "    </tr>\n",
              "    <tr>\n",
              "      <th>18276</th>\n",
              "      <td>48</td>\n",
              "      <td>54</td>\n",
              "    </tr>\n",
              "    <tr>\n",
              "      <th>18277</th>\n",
              "      <td>48</td>\n",
              "      <td>51</td>\n",
              "    </tr>\n",
              "  </tbody>\n",
              "</table>\n",
              "<p>18278 rows × 2 columns</p>\n",
              "</div>"
            ],
            "text/plain": [
              "       overall  potential\n",
              "0           94         94\n",
              "1           93         93\n",
              "2           92         92\n",
              "3           91         93\n",
              "4           91         91\n",
              "...        ...        ...\n",
              "18273       48         56\n",
              "18274       48         56\n",
              "18275       48         56\n",
              "18276       48         54\n",
              "18277       48         51\n",
              "\n",
              "[18278 rows x 2 columns]"
            ]
          },
          "metadata": {
            "tags": []
          },
          "execution_count": 85
        }
      ]
    },
    {
      "cell_type": "code",
      "metadata": {
        "id": "vBPJmC9_9e45",
        "colab_type": "code",
        "outputId": "879e60cd-7125-4b17-aedd-f56fd87c91da",
        "colab": {
          "base_uri": "https://localhost:8080/",
          "height": 136
        }
      },
      "source": [
        "DataclasNew = np.array(Dataclas)\n",
        "DataclasNew"
      ],
      "execution_count": 0,
      "outputs": [
        {
          "output_type": "execute_result",
          "data": {
            "text/plain": [
              "array([[94, 94],\n",
              "       [93, 93],\n",
              "       [92, 92],\n",
              "       ...,\n",
              "       [48, 56],\n",
              "       [48, 54],\n",
              "       [48, 51]])"
            ]
          },
          "metadata": {
            "tags": []
          },
          "execution_count": 86
        }
      ]
    },
    {
      "cell_type": "code",
      "metadata": {
        "id": "gpiYeXRincto",
        "colab_type": "code",
        "colab": {}
      },
      "source": [
        "#Menyimpan Classification Dataset\n",
        "df.to_csv(\"classification.csv\", index=False)"
      ],
      "execution_count": 0,
      "outputs": []
    },
    {
      "cell_type": "code",
      "metadata": {
        "id": "RjPVKN7RjgAO",
        "colab_type": "code",
        "outputId": "d36883cc-4fbe-4ab8-c01f-ddce69325521",
        "colab": {
          "base_uri": "https://localhost:8080/",
          "height": 419
        }
      },
      "source": [
        "#Pemotongan Data (Clustering Data)\n",
        "csv_clas = pd.DataFrame(df, columns=['value_eur', 'wage_eur'])\n",
        "csv_clas"
      ],
      "execution_count": 0,
      "outputs": [
        {
          "output_type": "execute_result",
          "data": {
            "text/html": [
              "<div>\n",
              "<style scoped>\n",
              "    .dataframe tbody tr th:only-of-type {\n",
              "        vertical-align: middle;\n",
              "    }\n",
              "\n",
              "    .dataframe tbody tr th {\n",
              "        vertical-align: top;\n",
              "    }\n",
              "\n",
              "    .dataframe thead th {\n",
              "        text-align: right;\n",
              "    }\n",
              "</style>\n",
              "<table border=\"1\" class=\"dataframe\">\n",
              "  <thead>\n",
              "    <tr style=\"text-align: right;\">\n",
              "      <th></th>\n",
              "      <th>value_eur</th>\n",
              "      <th>wage_eur</th>\n",
              "    </tr>\n",
              "  </thead>\n",
              "  <tbody>\n",
              "    <tr>\n",
              "      <th>0</th>\n",
              "      <td>95500000</td>\n",
              "      <td>565000</td>\n",
              "    </tr>\n",
              "    <tr>\n",
              "      <th>1</th>\n",
              "      <td>58500000</td>\n",
              "      <td>405000</td>\n",
              "    </tr>\n",
              "    <tr>\n",
              "      <th>2</th>\n",
              "      <td>105500000</td>\n",
              "      <td>290000</td>\n",
              "    </tr>\n",
              "    <tr>\n",
              "      <th>3</th>\n",
              "      <td>77500000</td>\n",
              "      <td>125000</td>\n",
              "    </tr>\n",
              "    <tr>\n",
              "      <th>4</th>\n",
              "      <td>90000000</td>\n",
              "      <td>470000</td>\n",
              "    </tr>\n",
              "    <tr>\n",
              "      <th>...</th>\n",
              "      <td>...</td>\n",
              "      <td>...</td>\n",
              "    </tr>\n",
              "    <tr>\n",
              "      <th>18273</th>\n",
              "      <td>40000</td>\n",
              "      <td>2000</td>\n",
              "    </tr>\n",
              "    <tr>\n",
              "      <th>18274</th>\n",
              "      <td>40000</td>\n",
              "      <td>2000</td>\n",
              "    </tr>\n",
              "    <tr>\n",
              "      <th>18275</th>\n",
              "      <td>40000</td>\n",
              "      <td>1000</td>\n",
              "    </tr>\n",
              "    <tr>\n",
              "      <th>18276</th>\n",
              "      <td>40000</td>\n",
              "      <td>1000</td>\n",
              "    </tr>\n",
              "    <tr>\n",
              "      <th>18277</th>\n",
              "      <td>40000</td>\n",
              "      <td>2000</td>\n",
              "    </tr>\n",
              "  </tbody>\n",
              "</table>\n",
              "<p>18278 rows × 2 columns</p>\n",
              "</div>"
            ],
            "text/plain": [
              "       value_eur  wage_eur\n",
              "0       95500000    565000\n",
              "1       58500000    405000\n",
              "2      105500000    290000\n",
              "3       77500000    125000\n",
              "4       90000000    470000\n",
              "...          ...       ...\n",
              "18273      40000      2000\n",
              "18274      40000      2000\n",
              "18275      40000      1000\n",
              "18276      40000      1000\n",
              "18277      40000      2000\n",
              "\n",
              "[18278 rows x 2 columns]"
            ]
          },
          "metadata": {
            "tags": []
          },
          "execution_count": 88
        }
      ]
    },
    {
      "cell_type": "code",
      "metadata": {
        "id": "GaJ7mvs3nEe8",
        "colab_type": "code",
        "colab": {}
      },
      "source": [
        "#Menyimpan Clustering Dataset\n",
        "csv_clas.to_csv(\"clustering.csv\", index=False)"
      ],
      "execution_count": 0,
      "outputs": []
    },
    {
      "cell_type": "code",
      "metadata": {
        "id": "rjmGNEt7n6qt",
        "colab_type": "code",
        "colab": {}
      },
      "source": [
        " "
      ],
      "execution_count": 0,
      "outputs": []
    }
  ]
}